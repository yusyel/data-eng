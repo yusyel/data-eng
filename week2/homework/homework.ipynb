{
 "cells": [
  {
   "attachments": {},
   "cell_type": "markdown",
   "metadata": {},
   "source": [
    "# Q1\n",
    "***\n",
    "\n",
    "22:22:50.464 | INFO    | Task run 'clean-b9fd7e03-0' - **rows: 447770**\n"
   ]
  },
  {
   "attachments": {},
   "cell_type": "markdown",
   "metadata": {},
   "source": [
    "# Q2\n",
    "***\n",
    "\n",
    "![](./img/q2.png \"Title\")"
   ]
  },
  {
   "attachments": {},
   "cell_type": "markdown",
   "metadata": {},
   "source": [
    "# Q3\n",
    "****\n",
    "![](./img/q3.png)\n",
    "\n",
    "**14,851,920**"
   ]
  },
  {
   "attachments": {},
   "cell_type": "markdown",
   "metadata": {},
   "source": [
    "# Q4\n",
    "****\n",
    "\n",
    "\n",
    "03:37:45.080 | INFO    | Task run 'clean-2c6af9f6-0' - rows: **88605**"
   ]
  },
  {
   "attachments": {},
   "cell_type": "markdown",
   "metadata": {},
   "source": [
    "# Q5\n",
    "****\n",
    "\n",
    "08:45:13.688 | INFO    | Task run 'clean-b9fd7e03-0' - rows: **514392**"
   ]
  },
  {
   "attachments": {},
   "cell_type": "markdown",
   "metadata": {},
   "source": [
    "# Q6\n",
    "\n",
    "********\n",
    "\n",
    "**8**\n"
   ]
  },
  {
   "attachments": {},
   "cell_type": "markdown",
   "metadata": {},
   "source": [
    "# Codes:\n",
    "\n",
    "https://github.com/yusyel/data-eng/tree/master/week2/homework"
   ]
  }
 ],
 "metadata": {
  "kernelspec": {
   "display_name": "eng-_qt8xORX",
   "language": "python",
   "name": "python3"
  },
  "language_info": {
   "name": "python",
   "version": "3.9.2"
  },
  "orig_nbformat": 4,
  "vscode": {
   "interpreter": {
    "hash": "541a68e38ab020ab520ed367b00fcc7caf47d3be6c020f5a18c8c31adcd09335"
   }
  }
 },
 "nbformat": 4,
 "nbformat_minor": 2
}
